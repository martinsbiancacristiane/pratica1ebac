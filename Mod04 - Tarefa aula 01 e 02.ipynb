{
 "cells": [
  {
   "cell_type": "markdown",
   "metadata": {},
   "source": [
    "# Tarefa 01\n",
    "\n",
    "- Leia os enunciados com atenção\n",
    "- Saiba que pode haver mais de uma resposta correta\n",
    "- Insira novas células de código sempre que achar necessário\n",
    "- Em caso de dúvidas, procure os tutores\n",
    "- Divirta-se :)\n",
    "\n",
    "#### 1)  crie uma série do pandas a partir de uma lista com os dados abaixo:\n",
    "\n",
    "Em um estudo sobre alteração na tempreatura global, A NASA disponibiliza dados de diferenças de de temperatura média da superfície terrestre relativos às médias de temperatura entre 1951 e 1980. Os dados originais podem ser vistos no site da NASA/GISS, e estão dispostos a cada década na tabela abaixo.\n",
    "\n",
    "|ano|anomalia termica|\n",
    "|:-:|:----:|\n",
    "| 1900 | -0.08 |\n",
    "| 1920 | -0.27 |\n",
    "| 1940 | 0.12 |\n",
    "| 1960 | -0.03 |\n",
    "| 1980 | 0.26 |\n",
    "| 2000 | 0.40 |\n",
    "| 2020 | 1.02 |\n",
    "\n",
    "Crie uma séries do Pandas a partir de uma lista com esses dados."
   ]
  },
  {
   "cell_type": "code",
   "execution_count": 1,
   "metadata": {},
   "outputs": [
    {
     "name": "stdout",
     "output_type": "stream",
     "text": [
      "0   -0.08\n",
      "1   -0.27\n",
      "2    0.12\n",
      "3   -0.03\n",
      "4    0.26\n",
      "5    0.40\n",
      "6    1.02\n",
      "dtype: float64\n"
     ]
    }
   ],
   "source": [
    "import pandas as pd\n",
    "import numpy as np\n",
    "\n",
    "# Os dados de anomalia termica em uma lista\n",
    "anomalias = [-0.08, -0.27, 0.12, -0.03, 0.26, 0.40, 1.02]\n",
    "\n",
    "# Cria a Series a partir da lista\n",
    "# pd.Series() é a função principal para criar Series\n",
    "series_anomalia = pd.Series(anomalias)\n",
    "\n",
    "# Exibe a Series para ver o resultado\n",
    "print(series_anomalia)"
   ]
  },
  {
   "cell_type": "markdown",
   "metadata": {},
   "source": [
    "#### 2) Coloque os anos nos índices conforme a tabela."
   ]
  },
  {
   "cell_type": "code",
   "execution_count": 4,
   "metadata": {},
   "outputs": [
    {
     "name": "stdout",
     "output_type": "stream",
     "text": [
      "1900   -0.08\n",
      "1920   -0.27\n",
      "1940    0.12\n",
      "1960   -0.03\n",
      "1980    0.26\n",
      "2000    0.40\n",
      "2020    1.02\n",
      "dtype: float64\n"
     ]
    }
   ],
   "source": [
    "\n",
    "## Lista com os anos que servirão de índice\n",
    "anos = [1900, 1920, 1940, 1960, 1980, 2000, 2020]\n",
    "\n",
    "# Lista com os dados de anomalia termica\n",
    "anomalias = [-0.08, -0.27, 0.12, -0.03, 0.26, 0.40, 1.02]\n",
    "\n",
    "# Cria a Series com a lista de dados e a lista de índices\n",
    "# O parâmetro 'index' define os rótulos de cada linha\n",
    "series_anomalia_com_indice = pd.Series(anomalias, index=anos)\n",
    "\n",
    "# Exibe a Series com os novos índices\n",
    "print(series_anomalia_com_indice) \n"
   ]
  },
  {
   "cell_type": "code",
   "execution_count": null,
   "metadata": {},
   "outputs": [],
   "source": [
    "3) A partir do dicionário abaixo, crie uma séries do Pandas:"
   ]
  },
  {
   "cell_type": "code",
   "execution_count": 5,
   "metadata": {},
   "outputs": [
    {
     "name": "stdout",
     "output_type": "stream",
     "text": [
      "1900   -0.08\n",
      "1920   -0.27\n",
      "1940    0.12\n",
      "1960   -0.03\n",
      "1980    0.26\n",
      "2000    0.40\n",
      "2020    1.02\n",
      "dtype: float64\n"
     ]
    }
   ],
   "source": [
    "# Dicionário fornecido\n",
    "dic_temperaturas = {1900: -.08, 1920: -.27, 1940: .12, 1960: -.03, 1980: .26, 2000: .40, 2020: 1.02}\n",
    "\n",
    "# Cria a Series a partir do dicionário\n",
    "# O pandas converte as chaves (1900, 1920...) para o índice e os valores para os dados\n",
    "series_dic = pd.Series(dic_temperaturas)\n",
    "\n",
    "# Exibe a Series\n",
    "print(series_dic)"
   ]
  },
  {
   "cell_type": "markdown",
   "metadata": {},
   "source": [
    "#### 4) Transforme o ndarray abaixo em um dataframe. \n",
    "O numpy é capaz de gerar arrays n-dimensionais com números pseudo-aleatórios de acordo com uma variedade de distribuições, como no exemplo abaixo. Transforme esse nd-array em um DataFrame."
   ]
  },
  {
   "cell_type": "code",
   "execution_count": 6,
   "metadata": {},
   "outputs": [
    {
     "name": "stdout",
     "output_type": "stream",
     "text": [
      "            0           1           2\n",
      "0   95.132222  123.967093   89.434210\n",
      "1   91.648413  100.485691   97.125954\n",
      "2   90.459600   93.283451  106.781118\n",
      "3  100.369740   87.086958  112.763775\n",
      "4   94.119714   83.067875   90.640045\n"
     ]
    }
   ],
   "source": [
    "import numpy as np\n",
    "\n",
    "# Cria o ndarray\n",
    "arr = np.random.normal(100, 10, (20,3))\n",
    "\n",
    "# Converte o ndarray para um DataFrame\n",
    "df = pd.DataFrame(arr)\n",
    "\n",
    "# Exibe as primeiras 5 linhas do DataFrame\n",
    "print(df.head())"
   ]
  },
  {
   "cell_type": "markdown",
   "metadata": {},
   "source": [
    "#### 5) Nomeie os índices das linhas com inteiros de 1 a 20, e as colunas com os nomes \"x1\", \"x2\", e \"x3\" respectivamente."
   ]
  },
  {
   "cell_type": "code",
   "execution_count": 7,
   "metadata": {},
   "outputs": [
    {
     "name": "stdout",
     "output_type": "stream",
     "text": [
      "           x1          x2          x3\n",
      "1  112.525292  100.847143  106.812710\n",
      "2   93.568921   88.091755   92.149128\n",
      "3   92.671553  111.669205   89.012383\n",
      "4  103.005071  107.559289  106.747096\n",
      "5  114.953948   86.807218  113.131501\n"
     ]
    }
   ],
   "source": [
    "# Reutiliza o ndarray da tarefa anterior\n",
    "arr = np.random.normal(100, 10, (20,3))\n",
    "\n",
    "# Nomes das colunas\n",
    "colunas = ['x1', 'x2', 'x3']\n",
    "\n",
    "# Índices das linhas\n",
    "indices = list(range(1, 21))\n",
    "\n",
    "# Cria o DataFrame com os nomes das colunas e índices definidos\n",
    "df_nomeado = pd.DataFrame(arr, columns=colunas, index=indices)\n",
    "\n",
    "# Exibe o DataFrame\n",
    "print(df_nomeado.head())\n"
   ]
  },
  {
   "cell_type": "markdown",
   "metadata": {},
   "source": [
    "#### 6) No DataFrame do exercício 5, crie uma nova coluna como sendo a média das três colunas, e dê a ela o nome de \"media\" (não recomendo colocar acentos em nomes de variáveis)."
   ]
  },
  {
   "cell_type": "code",
   "execution_count": 8,
   "metadata": {},
   "outputs": [
    {
     "name": "stdout",
     "output_type": "stream",
     "text": [
      "           x1          x2          x3       media\n",
      "1  112.525292  100.847143  106.812710  106.728382\n",
      "2   93.568921   88.091755   92.149128   91.269935\n",
      "3   92.671553  111.669205   89.012383   97.784380\n",
      "4  103.005071  107.559289  106.747096  105.770485\n",
      "5  114.953948   86.807218  113.131501  104.964222\n"
     ]
    }
   ],
   "source": [
    "# Acessa as três colunas e as soma, depois divide por 3\n",
    "# Essa operação é vetorizada, ou seja, ela é aplicada a cada linha de uma vez\n",
    "df_nomeado['media'] = (df_nomeado['x1'] + df_nomeado['x2'] + df_nomeado['x3']) / 3\n",
    "\n",
    "# Exibe o DataFrame com a nova coluna\n",
    "print(df_nomeado.head())"
   ]
  },
  {
   "cell_type": "markdown",
   "metadata": {},
   "source": [
    "#### 7) No DataFrame do exercício 6, crie uma nova coluna chamada \"log_med\", contendo o logaritmo natural da média calculada no exercício 6 <br>"
   ]
  },
  {
   "cell_type": "code",
   "execution_count": 9,
   "metadata": {},
   "outputs": [
    {
     "name": "stdout",
     "output_type": "stream",
     "text": [
      "           x1          x2          x3       media   log_med\n",
      "1  112.525292  100.847143  106.812710  106.728382  4.670287\n",
      "2   93.568921   88.091755   92.149128   91.269935  4.513821\n",
      "3   92.671553  111.669205   89.012383   97.784380  4.582765\n",
      "4  103.005071  107.559289  106.747096  105.770485  4.661272\n",
      "5  114.953948   86.807218  113.131501  104.964222  4.653620\n"
     ]
    }
   ],
   "source": [
    "# import numpy as np\n",
    "\n",
    "# Acessa a coluna 'media' e aplica o logaritmo natural\n",
    "# np.log() é a função do numpy para calcular o logaritmo natural de cada valor\n",
    "df_nomeado['log_med'] = np.log(df_nomeado['media'])\n",
    "\n",
    "# Exibe o DataFrame com a nova coluna para conferir o resultado\n",
    "print(df_nomeado.head())"
   ]
  }
 ],
 "metadata": {
  "kernelspec": {
   "display_name": "Python [conda env:base] *",
   "language": "python",
   "name": "conda-base-py"
  },
  "language_info": {
   "codemirror_mode": {
    "name": "ipython",
    "version": 3
   },
   "file_extension": ".py",
   "mimetype": "text/x-python",
   "name": "python",
   "nbconvert_exporter": "python",
   "pygments_lexer": "ipython3",
   "version": "3.13.5"
  }
 },
 "nbformat": 4,
 "nbformat_minor": 4
}
